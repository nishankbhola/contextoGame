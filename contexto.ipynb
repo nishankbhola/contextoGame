{
  "metadata": {
    "kernelspec": {
      "language": "python",
      "display_name": "Python 3",
      "name": "python3"
    },
    "language_info": {
      "name": "python",
      "version": "3.10.12",
      "mimetype": "text/x-python",
      "codemirror_mode": {
        "name": "ipython",
        "version": 3
      },
      "pygments_lexer": "ipython3",
      "nbconvert_exporter": "python",
      "file_extension": ".py"
    },
    "colab": {
      "provenance": []
    }
  },
  "nbformat_minor": 0,
  "nbformat": 4,
  "cells": [
    {
      "cell_type": "code",
      "source": [
        "target = \"balls\""
      ],
      "metadata": {
        "_uuid": "8f2839f25d086af736a60e9eeb907d3b93b6e0e5",
        "_cell_guid": "b1076dfc-b9ad-4769-8c92-a6c4dae69d19",
        "execution": {
          "iopub.status.busy": "2023-09-23T18:46:17.263863Z",
          "iopub.execute_input": "2023-09-23T18:46:17.264348Z",
          "iopub.status.idle": "2023-09-23T18:46:17.269982Z",
          "shell.execute_reply.started": "2023-09-23T18:46:17.264314Z",
          "shell.execute_reply": "2023-09-23T18:46:17.268770Z"
        },
        "trusted": true,
        "id": "hr0KbP4kYFl0"
      },
      "execution_count": null,
      "outputs": []
    },
    {
      "cell_type": "code",
      "source": [
        "\n",
        "from gensim.models import Word2Vec, KeyedVectors\n",
        "pretrained_path = \"/kaggle/input/googles-trained-word2vec-model-in-python/GoogleNews-vectors-negative300.bin\"\n",
        "\n",
        "Word2VecModel = KeyedVectors.load_word2vec_format(pretrained_path, binary = True)\n",
        "\n"
      ],
      "metadata": {
        "execution": {
          "iopub.status.busy": "2023-09-23T18:27:48.996315Z",
          "iopub.execute_input": "2023-09-23T18:27:48.997059Z",
          "iopub.status.idle": "2023-09-23T18:28:40.990937Z",
          "shell.execute_reply.started": "2023-09-23T18:27:48.997026Z",
          "shell.execute_reply": "2023-09-23T18:28:40.989371Z"
        },
        "trusted": true,
        "id": "19Fko8mMYFl3"
      },
      "execution_count": null,
      "outputs": []
    },
    {
      "cell_type": "code",
      "source": [
        "dir(Word2VecModel)"
      ],
      "metadata": {
        "execution": {
          "iopub.status.busy": "2023-09-23T18:28:40.992478Z",
          "iopub.execute_input": "2023-09-23T18:28:40.992825Z",
          "iopub.status.idle": "2023-09-23T18:28:41.003329Z",
          "shell.execute_reply.started": "2023-09-23T18:28:40.992795Z",
          "shell.execute_reply": "2023-09-23T18:28:41.001960Z"
        },
        "trusted": true,
        "id": "d01zcUZJYFl3",
        "outputId": "7827284b-7d7e-4e94-b4a2-336cdfbf056b"
      },
      "execution_count": null,
      "outputs": [
        {
          "execution_count": 28,
          "output_type": "execute_result",
          "data": {
            "text/plain": "['__class__',\n '__contains__',\n '__delattr__',\n '__dict__',\n '__dir__',\n '__doc__',\n '__eq__',\n '__format__',\n '__ge__',\n '__getattribute__',\n '__getitem__',\n '__gt__',\n '__hash__',\n '__init__',\n '__init_subclass__',\n '__le__',\n '__len__',\n '__lt__',\n '__module__',\n '__ne__',\n '__new__',\n '__reduce__',\n '__reduce_ex__',\n '__repr__',\n '__setattr__',\n '__setitem__',\n '__sizeof__',\n '__str__',\n '__subclasshook__',\n '__weakref__',\n '_adapt_by_suffix',\n '_load_specials',\n '_log_evaluate_word_analogies',\n '_save_specials',\n '_smart_save',\n '_upconvert_old_d2vkv',\n '_upconvert_old_vocab',\n 'add_lifecycle_event',\n 'add_vector',\n 'add_vectors',\n 'allocate_vecattrs',\n 'closer_than',\n 'cosine_similarities',\n 'distance',\n 'distances',\n 'doesnt_match',\n 'evaluate_word_analogies',\n 'evaluate_word_pairs',\n 'expandos',\n 'fill_norms',\n 'get_index',\n 'get_mean_vector',\n 'get_normed_vectors',\n 'get_vecattr',\n 'get_vector',\n 'has_index_for',\n 'index2entity',\n 'index2word',\n 'index_to_key',\n 'init_sims',\n 'intersect_word2vec_format',\n 'key_to_index',\n 'lifecycle_events',\n 'load',\n 'load_word2vec_format',\n 'log_accuracy',\n 'log_evaluate_word_pairs',\n 'mapfile_path',\n 'most_similar',\n 'most_similar_cosmul',\n 'most_similar_to_given',\n 'n_similarity',\n 'next_index',\n 'norms',\n 'rank',\n 'rank_by_centrality',\n 'relative_cosine_similarity',\n 'resize_vectors',\n 'save',\n 'save_word2vec_format',\n 'set_vecattr',\n 'similar_by_key',\n 'similar_by_vector',\n 'similar_by_word',\n 'similarity',\n 'similarity_unseen_docs',\n 'sort_by_descending_frequency',\n 'unit_normalize_all',\n 'vector_size',\n 'vectors',\n 'vectors_for_all',\n 'vectors_norm',\n 'vocab',\n 'wmdistance',\n 'word_vec',\n 'words_closer_than']"
          },
          "metadata": {}
        }
      ]
    },
    {
      "cell_type": "code",
      "source": [
        "targetWord = \"people\"\n",
        "\n",
        "Word2VecModel.similarity('man','woman')"
      ],
      "metadata": {
        "execution": {
          "iopub.status.busy": "2023-09-23T18:28:41.006844Z",
          "iopub.execute_input": "2023-09-23T18:28:41.007371Z",
          "iopub.status.idle": "2023-09-23T18:28:41.024572Z",
          "shell.execute_reply.started": "2023-09-23T18:28:41.007328Z",
          "shell.execute_reply": "2023-09-23T18:28:41.023010Z"
        },
        "trusted": true,
        "id": "RI6MUY9ZYFl4",
        "outputId": "b300dc3f-baaf-4b67-e6d3-9f776cd2eb2e"
      },
      "execution_count": null,
      "outputs": [
        {
          "execution_count": 29,
          "output_type": "execute_result",
          "data": {
            "text/plain": "0.76640123"
          },
          "metadata": {}
        }
      ]
    },
    {
      "cell_type": "code",
      "source": [
        "def returnDistanceBetweenWords(guess, targetWord):\n",
        "    return str(Word2VecModel.similarity(targetWord,guess))"
      ],
      "metadata": {
        "execution": {
          "iopub.status.busy": "2023-09-23T18:33:12.082247Z",
          "iopub.execute_input": "2023-09-23T18:33:12.082911Z",
          "iopub.status.idle": "2023-09-23T18:33:12.088730Z",
          "shell.execute_reply.started": "2023-09-23T18:33:12.082878Z",
          "shell.execute_reply": "2023-09-23T18:33:12.087365Z"
        },
        "trusted": true,
        "id": "CtQY5oX2YFl4"
      },
      "execution_count": null,
      "outputs": []
    },
    {
      "cell_type": "code",
      "source": [],
      "metadata": {
        "execution": {
          "iopub.status.busy": "2023-09-23T18:36:05.822687Z",
          "iopub.status.idle": "2023-09-23T18:36:05.823396Z",
          "shell.execute_reply.started": "2023-09-23T18:36:05.823164Z",
          "shell.execute_reply": "2023-09-23T18:36:05.823185Z"
        },
        "trusted": true,
        "id": "ZUKs5UsKYFl4"
      },
      "execution_count": null,
      "outputs": []
    },
    {
      "cell_type": "code",
      "source": [
        "gussedWord = []\n",
        "while True:\n",
        "    myInput = input(\"guess the word: \" )\n",
        "    gussedWord.append((myInput,returnDistanceBetweenWords(myInput,target)))\n",
        "    print(sorted(gussedWord, key=lambda x: x[1], reverse=True))\n",
        "    print(\"-------------------------------------------------------------------------------------------\")\n",
        "\n"
      ],
      "metadata": {
        "execution": {
          "iopub.status.busy": "2023-09-23T18:46:23.973771Z",
          "iopub.execute_input": "2023-09-23T18:46:23.974266Z",
          "iopub.status.idle": "2023-09-23T18:49:08.984209Z",
          "shell.execute_reply.started": "2023-09-23T18:46:23.974231Z",
          "shell.execute_reply": "2023-09-23T18:49:08.982358Z"
        },
        "trusted": true,
        "id": "TFTHs2xeYFl4",
        "outputId": "8ee07f7c-adc2-4005-9be7-f69794a88ec2"
      },
      "execution_count": null,
      "outputs": [
        {
          "output_type": "stream",
          "name": "stdin",
          "text": "guess the word:  hello\n"
        },
        {
          "name": "stdout",
          "text": "[('hello', '0.09160117')]\n",
          "output_type": "stream"
        },
        {
          "output_type": "stream",
          "name": "stdin",
          "text": "guess the word:  morning\n"
        },
        {
          "name": "stdout",
          "text": "[('hello', '0.09160117'), ('morning', '0.05355507')]\n",
          "output_type": "stream"
        },
        {
          "output_type": "stream",
          "name": "stdin",
          "text": "guess the word:  happy\n"
        },
        {
          "name": "stdout",
          "text": "[('happy', '0.12825143'), ('hello', '0.09160117'), ('morning', '0.05355507')]\n",
          "output_type": "stream"
        },
        {
          "output_type": "stream",
          "name": "stdin",
          "text": "guess the word:  blue\n"
        },
        {
          "name": "stdout",
          "text": "[('happy', '0.12825143'), ('blue', '0.12059655'), ('hello', '0.09160117'), ('morning', '0.05355507')]\n",
          "output_type": "stream"
        },
        {
          "output_type": "stream",
          "name": "stdin",
          "text": "guess the word:  red\n"
        },
        {
          "name": "stdout",
          "text": "[('happy', '0.12825143'), ('blue', '0.12059655'), ('red', '0.11078958'), ('hello', '0.09160117'), ('morning', '0.05355507')]\n",
          "output_type": "stream"
        },
        {
          "output_type": "stream",
          "name": "stdin",
          "text": "guess the word:  smile\n"
        },
        {
          "name": "stdout",
          "text": "[('smile', '0.1472581'), ('happy', '0.12825143'), ('blue', '0.12059655'), ('red', '0.11078958'), ('hello', '0.09160117'), ('morning', '0.05355507')]\n",
          "output_type": "stream"
        },
        {
          "output_type": "stream",
          "name": "stdin",
          "text": "guess the word:  key\n"
        },
        {
          "name": "stdout",
          "text": "[('smile', '0.1472581'), ('happy', '0.12825143'), ('blue', '0.12059655'), ('red', '0.11078958'), ('hello', '0.09160117'), ('key', '0.054318286'), ('morning', '0.05355507')]\n",
          "output_type": "stream"
        },
        {
          "output_type": "stream",
          "name": "stdin",
          "text": "guess the word:  boat\n"
        },
        {
          "name": "stdout",
          "text": "[('smile', '0.1472581'), ('boat', '0.13197897'), ('happy', '0.12825143'), ('blue', '0.12059655'), ('red', '0.11078958'), ('hello', '0.09160117'), ('key', '0.054318286'), ('morning', '0.05355507')]\n",
          "output_type": "stream"
        },
        {
          "output_type": "stream",
          "name": "stdin",
          "text": "guess the word:  shiva\n"
        },
        {
          "name": "stdout",
          "text": "[('smile', '0.1472581'), ('boat', '0.13197897'), ('happy', '0.12825143'), ('blue', '0.12059655'), ('red', '0.11078958'), ('hello', '0.09160117'), ('key', '0.054318286'), ('morning', '0.05355507'), ('shiva', '-0.007425931')]\n",
          "output_type": "stream"
        },
        {
          "output_type": "stream",
          "name": "stdin",
          "text": "guess the word:  glass\n"
        },
        {
          "name": "stdout",
          "text": "[('glass', '0.19489907'), ('smile', '0.1472581'), ('boat', '0.13197897'), ('happy', '0.12825143'), ('blue', '0.12059655'), ('red', '0.11078958'), ('hello', '0.09160117'), ('key', '0.054318286'), ('morning', '0.05355507'), ('shiva', '-0.007425931')]\n",
          "output_type": "stream"
        },
        {
          "output_type": "stream",
          "name": "stdin",
          "text": "guess the word:  shirt\n"
        },
        {
          "name": "stdout",
          "text": "[('shirt', '0.22879909'), ('glass', '0.19489907'), ('smile', '0.1472581'), ('boat', '0.13197897'), ('happy', '0.12825143'), ('blue', '0.12059655'), ('red', '0.11078958'), ('hello', '0.09160117'), ('key', '0.054318286'), ('morning', '0.05355507'), ('shiva', '-0.007425931')]\n",
          "output_type": "stream"
        },
        {
          "output_type": "stream",
          "name": "stdin",
          "text": "guess the word:  human\n"
        },
        {
          "name": "stdout",
          "text": "[('shirt', '0.22879909'), ('glass', '0.19489907'), ('smile', '0.1472581'), ('boat', '0.13197897'), ('happy', '0.12825143'), ('blue', '0.12059655'), ('red', '0.11078958'), ('hello', '0.09160117'), ('key', '0.054318286'), ('morning', '0.05355507'), ('human', '0.029081333'), ('shiva', '-0.007425931')]\n",
          "output_type": "stream"
        },
        {
          "output_type": "stream",
          "name": "stdin",
          "text": "guess the word:  ball\n"
        },
        {
          "name": "stdout",
          "text": "[('ball', '0.69926244'), ('shirt', '0.22879909'), ('glass', '0.19489907'), ('smile', '0.1472581'), ('boat', '0.13197897'), ('happy', '0.12825143'), ('blue', '0.12059655'), ('red', '0.11078958'), ('hello', '0.09160117'), ('key', '0.054318286'), ('morning', '0.05355507'), ('human', '0.029081333'), ('shiva', '-0.007425931')]\n",
          "output_type": "stream"
        },
        {
          "output_type": "stream",
          "name": "stdin",
          "text": "guess the word:  bat\n"
        },
        {
          "name": "stdout",
          "text": "[('ball', '0.69926244'), ('bat', '0.50182915'), ('shirt', '0.22879909'), ('glass', '0.19489907'), ('smile', '0.1472581'), ('boat', '0.13197897'), ('happy', '0.12825143'), ('blue', '0.12059655'), ('red', '0.11078958'), ('hello', '0.09160117'), ('key', '0.054318286'), ('morning', '0.05355507'), ('human', '0.029081333'), ('shiva', '-0.007425931')]\n",
          "output_type": "stream"
        },
        {
          "output_type": "stream",
          "name": "stdin",
          "text": "guess the word:  football\n"
        },
        {
          "name": "stdout",
          "text": "[('ball', '0.69926244'), ('bat', '0.50182915'), ('shirt', '0.22879909'), ('football', '0.19574602'), ('glass', '0.19489907'), ('smile', '0.1472581'), ('boat', '0.13197897'), ('happy', '0.12825143'), ('blue', '0.12059655'), ('red', '0.11078958'), ('hello', '0.09160117'), ('key', '0.054318286'), ('morning', '0.05355507'), ('human', '0.029081333'), ('shiva', '-0.007425931')]\n",
          "output_type": "stream"
        },
        {
          "output_type": "stream",
          "name": "stdin",
          "text": "guess the word:  baseball\n"
        },
        {
          "name": "stdout",
          "text": "[('ball', '0.69926244'), ('bat', '0.50182915'), ('shirt', '0.22879909'), ('baseball', '0.20726842'), ('football', '0.19574602'), ('glass', '0.19489907'), ('smile', '0.1472581'), ('boat', '0.13197897'), ('happy', '0.12825143'), ('blue', '0.12059655'), ('red', '0.11078958'), ('hello', '0.09160117'), ('key', '0.054318286'), ('morning', '0.05355507'), ('human', '0.029081333'), ('shiva', '-0.007425931')]\n",
          "output_type": "stream"
        },
        {
          "output_type": "stream",
          "name": "stdin",
          "text": "guess the word:  sport\n"
        },
        {
          "name": "stdout",
          "text": "[('ball', '0.69926244'), ('bat', '0.50182915'), ('shirt', '0.22879909'), ('baseball', '0.20726842'), ('football', '0.19574602'), ('glass', '0.19489907'), ('sport', '0.16014832'), ('smile', '0.1472581'), ('boat', '0.13197897'), ('happy', '0.12825143'), ('blue', '0.12059655'), ('red', '0.11078958'), ('hello', '0.09160117'), ('key', '0.054318286'), ('morning', '0.05355507'), ('human', '0.029081333'), ('shiva', '-0.007425931')]\n",
          "output_type": "stream"
        },
        {
          "output_type": "stream",
          "name": "stdin",
          "text": "guess the word:  game\n"
        },
        {
          "name": "stdout",
          "text": "[('ball', '0.69926244'), ('bat', '0.50182915'), ('game', '0.39022377'), ('shirt', '0.22879909'), ('baseball', '0.20726842'), ('football', '0.19574602'), ('glass', '0.19489907'), ('sport', '0.16014832'), ('smile', '0.1472581'), ('boat', '0.13197897'), ('happy', '0.12825143'), ('blue', '0.12059655'), ('red', '0.11078958'), ('hello', '0.09160117'), ('key', '0.054318286'), ('morning', '0.05355507'), ('human', '0.029081333'), ('shiva', '-0.007425931')]\n",
          "output_type": "stream"
        },
        {
          "output_type": "stream",
          "name": "stdin",
          "text": "guess the word:  basketball\n"
        },
        {
          "name": "stdout",
          "text": "[('ball', '0.69926244'), ('bat', '0.50182915'), ('game', '0.39022377'), ('shirt', '0.22879909'), ('baseball', '0.20726842'), ('football', '0.19574602'), ('glass', '0.19489907'), ('sport', '0.16014832'), ('basketball', '0.15458992'), ('smile', '0.1472581'), ('boat', '0.13197897'), ('happy', '0.12825143'), ('blue', '0.12059655'), ('red', '0.11078958'), ('hello', '0.09160117'), ('key', '0.054318286'), ('morning', '0.05355507'), ('human', '0.029081333'), ('shiva', '-0.007425931')]\n",
          "output_type": "stream"
        },
        {
          "output_type": "stream",
          "name": "stdin",
          "text": "guess the word:  balls\n"
        },
        {
          "name": "stdout",
          "text": "[('balls', '1.0'), ('ball', '0.69926244'), ('bat', '0.50182915'), ('game', '0.39022377'), ('shirt', '0.22879909'), ('baseball', '0.20726842'), ('football', '0.19574602'), ('glass', '0.19489907'), ('sport', '0.16014832'), ('basketball', '0.15458992'), ('smile', '0.1472581'), ('boat', '0.13197897'), ('happy', '0.12825143'), ('blue', '0.12059655'), ('red', '0.11078958'), ('hello', '0.09160117'), ('key', '0.054318286'), ('morning', '0.05355507'), ('human', '0.029081333'), ('shiva', '-0.007425931')]\n",
          "output_type": "stream"
        },
        {
          "traceback": [
            "\u001b[0;31m---------------------------------------------------------------------------\u001b[0m",
            "\u001b[0;31mKeyboardInterrupt\u001b[0m                         Traceback (most recent call last)",
            "Cell \u001b[0;32mIn[50], line 3\u001b[0m\n\u001b[1;32m      1\u001b[0m gussedWord \u001b[38;5;241m=\u001b[39m []\n\u001b[1;32m      2\u001b[0m \u001b[38;5;28;01mwhile\u001b[39;00m \u001b[38;5;28;01mTrue\u001b[39;00m:\n\u001b[0;32m----> 3\u001b[0m     myInput \u001b[38;5;241m=\u001b[39m \u001b[38;5;28;43minput\u001b[39;49m\u001b[43m(\u001b[49m\u001b[38;5;124;43m\"\u001b[39;49m\u001b[38;5;124;43mguess the word: \u001b[39;49m\u001b[38;5;124;43m\"\u001b[39;49m\u001b[43m \u001b[49m\u001b[43m)\u001b[49m\n\u001b[1;32m      4\u001b[0m     gussedWord\u001b[38;5;241m.\u001b[39mappend((myInput,returnDistanceBetweenWords(myInput,target)))\n\u001b[1;32m      5\u001b[0m     \u001b[38;5;28mprint\u001b[39m(\u001b[38;5;28msorted\u001b[39m(gussedWord, key\u001b[38;5;241m=\u001b[39m\u001b[38;5;28;01mlambda\u001b[39;00m x: x[\u001b[38;5;241m1\u001b[39m], reverse\u001b[38;5;241m=\u001b[39m\u001b[38;5;28;01mTrue\u001b[39;00m))\n",
            "File \u001b[0;32m/opt/conda/lib/python3.10/site-packages/ipykernel/kernelbase.py:1191\u001b[0m, in \u001b[0;36mKernel.raw_input\u001b[0;34m(self, prompt)\u001b[0m\n\u001b[1;32m   1189\u001b[0m     msg \u001b[38;5;241m=\u001b[39m \u001b[38;5;124m\"\u001b[39m\u001b[38;5;124mraw_input was called, but this frontend does not support input requests.\u001b[39m\u001b[38;5;124m\"\u001b[39m\n\u001b[1;32m   1190\u001b[0m     \u001b[38;5;28;01mraise\u001b[39;00m StdinNotImplementedError(msg)\n\u001b[0;32m-> 1191\u001b[0m \u001b[38;5;28;01mreturn\u001b[39;00m \u001b[38;5;28;43mself\u001b[39;49m\u001b[38;5;241;43m.\u001b[39;49m\u001b[43m_input_request\u001b[49m\u001b[43m(\u001b[49m\n\u001b[1;32m   1192\u001b[0m \u001b[43m    \u001b[49m\u001b[38;5;28;43mstr\u001b[39;49m\u001b[43m(\u001b[49m\u001b[43mprompt\u001b[49m\u001b[43m)\u001b[49m\u001b[43m,\u001b[49m\n\u001b[1;32m   1193\u001b[0m \u001b[43m    \u001b[49m\u001b[38;5;28;43mself\u001b[39;49m\u001b[38;5;241;43m.\u001b[39;49m\u001b[43m_parent_ident\u001b[49m\u001b[43m[\u001b[49m\u001b[38;5;124;43m\"\u001b[39;49m\u001b[38;5;124;43mshell\u001b[39;49m\u001b[38;5;124;43m\"\u001b[39;49m\u001b[43m]\u001b[49m\u001b[43m,\u001b[49m\n\u001b[1;32m   1194\u001b[0m \u001b[43m    \u001b[49m\u001b[38;5;28;43mself\u001b[39;49m\u001b[38;5;241;43m.\u001b[39;49m\u001b[43mget_parent\u001b[49m\u001b[43m(\u001b[49m\u001b[38;5;124;43m\"\u001b[39;49m\u001b[38;5;124;43mshell\u001b[39;49m\u001b[38;5;124;43m\"\u001b[39;49m\u001b[43m)\u001b[49m\u001b[43m,\u001b[49m\n\u001b[1;32m   1195\u001b[0m \u001b[43m    \u001b[49m\u001b[43mpassword\u001b[49m\u001b[38;5;241;43m=\u001b[39;49m\u001b[38;5;28;43;01mFalse\u001b[39;49;00m\u001b[43m,\u001b[49m\n\u001b[1;32m   1196\u001b[0m \u001b[43m\u001b[49m\u001b[43m)\u001b[49m\n",
            "File \u001b[0;32m/opt/conda/lib/python3.10/site-packages/ipykernel/kernelbase.py:1234\u001b[0m, in \u001b[0;36mKernel._input_request\u001b[0;34m(self, prompt, ident, parent, password)\u001b[0m\n\u001b[1;32m   1231\u001b[0m \u001b[38;5;28;01mexcept\u001b[39;00m \u001b[38;5;167;01mKeyboardInterrupt\u001b[39;00m:\n\u001b[1;32m   1232\u001b[0m     \u001b[38;5;66;03m# re-raise KeyboardInterrupt, to truncate traceback\u001b[39;00m\n\u001b[1;32m   1233\u001b[0m     msg \u001b[38;5;241m=\u001b[39m \u001b[38;5;124m\"\u001b[39m\u001b[38;5;124mInterrupted by user\u001b[39m\u001b[38;5;124m\"\u001b[39m\n\u001b[0;32m-> 1234\u001b[0m     \u001b[38;5;28;01mraise\u001b[39;00m \u001b[38;5;167;01mKeyboardInterrupt\u001b[39;00m(msg) \u001b[38;5;28;01mfrom\u001b[39;00m \u001b[38;5;28;01mNone\u001b[39;00m\n\u001b[1;32m   1235\u001b[0m \u001b[38;5;28;01mexcept\u001b[39;00m \u001b[38;5;167;01mException\u001b[39;00m:\n\u001b[1;32m   1236\u001b[0m     \u001b[38;5;28mself\u001b[39m\u001b[38;5;241m.\u001b[39mlog\u001b[38;5;241m.\u001b[39mwarning(\u001b[38;5;124m\"\u001b[39m\u001b[38;5;124mInvalid Message:\u001b[39m\u001b[38;5;124m\"\u001b[39m, exc_info\u001b[38;5;241m=\u001b[39m\u001b[38;5;28;01mTrue\u001b[39;00m)\n",
            "\u001b[0;31mKeyboardInterrupt\u001b[0m: Interrupted by user"
          ],
          "ename": "KeyboardInterrupt",
          "evalue": "Interrupted by user",
          "output_type": "error"
        }
      ]
    }
  ]
}